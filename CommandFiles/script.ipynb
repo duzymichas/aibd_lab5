{
 "cells": [
  {
   "cell_type": "markdown",
   "id": "c0b10341",
   "metadata": {},
   "source": [
    "# Sprawozdanie z laboratorium 5\n",
    "Michał Białożyt\n",
    "nr albumu 406347"
   ]
  },
  {
   "cell_type": "code",
   "execution_count": 35,
   "id": "c25f9075",
   "metadata": {},
   "outputs": [
    {
     "name": "stdout",
     "output_type": "stream",
     "text": [
      "               country  beer_servings  spirit_servings  wine_servings\n",
      "1              Albania             89              132             54\n",
      "2              Algeria             25                0             14\n",
      "3              Andorra            245              138            312\n",
      "4               Angola            217               57             45\n",
      "5    Antigua & Barbuda            102              128             45\n",
      "..                 ...            ...              ...            ...\n",
      "188          Venezuela            333              100              3\n",
      "189            Vietnam            111                2              1\n",
      "190              Yemen              6                0              0\n",
      "191             Zambia             32               19              4\n",
      "192           Zimbabwe             64               18              4\n",
      "\n",
      "[180 rows x 4 columns]\n"
     ]
    }
   ],
   "source": [
    "#1\n",
    "import pandas as pd\n",
    "directory = \"C:/Users/User/Desktop/Studia\\Analiza i Bazy Danych/aibd/lab5/aibd_lab5/OriginalData/drinks.csv\"\n",
    "drinks = pd.read_csv(directory)\n",
    "\n",
    "#dropping the rows with zeros\n",
    "drinks = drinks.drop(drinks[drinks.total_litres_of_pure_alcohol == 0].index)\n",
    "\n",
    "#creating drinks_by_category file\n",
    "drinks_by_category = drinks[[\"country\",\"beer_servings\",\"spirit_servings\",\"wine_servings\"]]\n",
    "drinks_by_category.to_csv(path_or_buf=\"C:/Users/User/Desktop/Studia/Analiza i Bazy Danych/aibd/lab5/aibd_lab5/AnalysisData/drinks_by_category.csv\", index=False)\n",
    "\n",
    "#creating drinks_total file\n",
    "drinks_total = drinks[[\"country\",\"total_litres_of_pure_alcohol\"]]\n",
    "drinks_total = drinks_total.sort_values(\"total_litres_of_pure_alcohol\")\n",
    "drinks_total.to_csv(path_or_buf=\"C:/Users/User/Desktop/Studia/Analiza i Bazy Danych/aibd/lab5/aibd_lab5/AnalysisData/drinks_total.csv\", index=False)\n"
   ]
  }
 ],
 "metadata": {
  "kernelspec": {
   "display_name": "Python 3 (ipykernel)",
   "language": "python",
   "name": "python3"
  },
  "language_info": {
   "codemirror_mode": {
    "name": "ipython",
    "version": 3
   },
   "file_extension": ".py",
   "mimetype": "text/x-python",
   "name": "python",
   "nbconvert_exporter": "python",
   "pygments_lexer": "ipython3",
   "version": "3.9.12"
  }
 },
 "nbformat": 4,
 "nbformat_minor": 5
}
